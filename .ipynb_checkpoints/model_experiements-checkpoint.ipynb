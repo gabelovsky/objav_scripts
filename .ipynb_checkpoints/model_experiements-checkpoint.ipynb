{
 "cells": [
  {
   "cell_type": "code",
   "execution_count": 1,
   "metadata": {},
   "outputs": [],
   "source": [
    "import pandas as pd\n",
    "import numpy as np\n",
    "import matplotlib.pyplot as plt\n",
    "import matplotlib.cm as cm\n",
    "import matplotlib.ticker as ticker"
   ]
  },
  {
   "cell_type": "code",
   "execution_count": 2,
   "metadata": {},
   "outputs": [],
   "source": [
    "from sklearn.model_selection import train_test_split\n",
    "from sklearn.ensemble import RandomForestRegressor\n",
    "from sklearn.metrics import r2_score\n",
    "from sklearn.model_selection import GridSearchCV\n",
    "from sklearn.feature_selection import RFE\n",
    "from sklearn.ensemble import AdaBoostRegressor\n",
    "from sklearn.tree import DecisionTreeRegressor\n",
    "from sklearn.ensemble import RandomForestRegressor\n",
    "from sklearn import preprocessing\n",
    "from sklearn.kernel_ridge import KernelRidge\n",
    "from sklearn import svm\n",
    "from sklearn.neighbors import KNeighborsRegressor\n",
    "from sklearn.gaussian_process import GaussianProcessRegressor\n",
    "from sklearn import tree\n",
    "from sklearn.isotonic import IsotonicRegression\n",
    "import sklearn.ensemble as ensemble\n",
    "from sklearn.model_selection import cross_val_score\n",
    "from sklearn import linear_model\n",
    "from sklearn.svm import SVR\n",
    "from sklearn import metrics\n",
    "from math import sqrt\n",
    "from sklearn.metrics import mean_squared_error"
   ]
  },
  {
   "cell_type": "markdown",
   "metadata": {},
   "source": [
    "# Process data"
   ]
  },
  {
   "cell_type": "code",
   "execution_count": 3,
   "metadata": {},
   "outputs": [],
   "source": [
    "full_data = pd.read_csv('added_rows.csv',delimiter=',')"
   ]
  },
  {
   "cell_type": "code",
   "execution_count": 4,
   "metadata": {},
   "outputs": [],
   "source": [
    "full_data=full_data.drop(['id','title','original_language','release_dates','production_companies','production_countries','cast'\n",
    "                         ,'crew','keywords','popularity','contentRating','collection'],axis=1)"
   ]
  },
  {
   "cell_type": "code",
   "execution_count": 5,
   "metadata": {},
   "outputs": [],
   "source": [
    "full_data['release_date']=full_data['release_date'].str[:-6]\n",
    "full_data = full_data[pd.notnull(full_data['release_date'])]\n",
    "full_data['release_date']=(full_data['release_date']).astype(int)\n",
    "full_data=full_data.fillna(full_data.mean())"
   ]
  },
  {
   "cell_type": "code",
   "execution_count": 6,
   "metadata": {},
   "outputs": [],
   "source": [
    "full_data['budget']=full_data['budget'].replace(0,np.nan)\n",
    "full_data['revenue']=full_data['revenue'].replace(0,np.nan)"
   ]
  },
  {
   "cell_type": "code",
   "execution_count": 7,
   "metadata": {},
   "outputs": [],
   "source": [
    "full_data['budget'].fillna((full_data['budget'].mean()), inplace=True)\n",
    "full_data['revenue'].fillna((full_data['revenue'].mean()), inplace=True)"
   ]
  },
  {
   "cell_type": "code",
   "execution_count": 8,
   "metadata": {},
   "outputs": [],
   "source": [
    "full_data=full_data[full_data.rating_count>50].reset_index(drop=True)\n",
    "full_data=full_data.drop(\"rating_count\",axis=1)"
   ]
  },
  {
   "cell_type": "markdown",
   "metadata": {},
   "source": [
    "# Correlation matrix"
   ]
  },
  {
   "cell_type": "code",
   "execution_count": null,
   "metadata": {},
   "outputs": [],
   "source": [
    "fig, ax = plt.subplots()\n",
    "fig.set_figheight(20)\n",
    "fig.set_figwidth(30)\n",
    "\n",
    "image=ax.matshow(full_data.corr(),interpolation='nearest', cmap=cm.coolwarm,vmin=-1, vmax=1)\n",
    "colorbar=fig.colorbar(image)\n",
    "\n",
    "labels=list(full_data.columns)\n",
    "\n",
    "ax.set_xticklabels([''] + labels,fontsize=30)\n",
    "ax.set_yticklabels([''] + labels,fontsize=30)\n",
    "ax.xaxis.set_major_locator(ticker.MultipleLocator(1))\n",
    "ax.xaxis.set_ticks_position('bottom')\n",
    "ax.yaxis.set_major_locator(ticker.MultipleLocator(1))\n",
    "od=plt.xticks(rotation='vertical')"
   ]
  },
  {
   "cell_type": "markdown",
   "metadata": {},
   "source": [
    "# Normalize"
   ]
  },
  {
   "cell_type": "code",
   "execution_count": 9,
   "metadata": {},
   "outputs": [],
   "source": [
    "full_data['adult']=full_data['adult'].astype(int)\n",
    "numpy_arrays = full_data.values\n",
    "headers=list(full_data.columns.values)\n",
    "min_max_scaler = preprocessing.MinMaxScaler()\n",
    "scaled = min_max_scaler.fit_transform(numpy_arrays)\n",
    "reg_data = pd.DataFrame(scaled)\n",
    "reg_data.columns=headers"
   ]
  },
  {
   "cell_type": "code",
   "execution_count": 10,
   "metadata": {},
   "outputs": [
    {
     "name": "stdout",
     "output_type": "stream",
     "text": [
      "<class 'pandas.core.frame.DataFrame'>\n",
      "RangeIndex: 113515 entries, 0 to 113514\n",
      "Data columns (total 38 columns):\n",
      "adult                        113515 non-null int32\n",
      "runtime                      113515 non-null float64\n",
      "release_date                 113515 non-null int32\n",
      "rating                       113515 non-null float64\n",
      "director                     113515 non-null int64\n",
      "producer                     113515 non-null int64\n",
      "editor                       113515 non-null int64\n",
      "writer                       113515 non-null int64\n",
      "Action                       113515 non-null int64\n",
      "Adventure                    113515 non-null int64\n",
      "Animation                    113515 non-null int64\n",
      "Comedy                       113515 non-null int64\n",
      "Crime                        113515 non-null int64\n",
      "Documentary                  113515 non-null int64\n",
      "Drama                        113515 non-null int64\n",
      "Family                       113515 non-null int64\n",
      "Fantasy                      113515 non-null int64\n",
      "Foreign                      113515 non-null int64\n",
      "History                      113515 non-null int64\n",
      "Horror                       113515 non-null int64\n",
      "Music                        113515 non-null int64\n",
      "Mystery                      113515 non-null int64\n",
      "Romance                      113515 non-null int64\n",
      "Science Fiction              113515 non-null int64\n",
      "TV Movie                     113515 non-null int64\n",
      "Thriller                     113515 non-null int64\n",
      "War                          113515 non-null int64\n",
      "Western                      113515 non-null int64\n",
      "revenue                      113515 non-null float64\n",
      "budget                       113515 non-null float64\n",
      "director_awards_won          113515 non-null int64\n",
      "director_awards_nominated    113515 non-null int64\n",
      "keywords_first_film          113515 non-null int64\n",
      "keywords_vote_average        113515 non-null float64\n",
      "cast_first_film              113515 non-null int64\n",
      "cast_vote_average            113515 non-null float64\n",
      "crew_first_film              113515 non-null int64\n",
      "crew_vote_average            113515 non-null float64\n",
      "dtypes: float64(7), int32(2), int64(29)\n",
      "memory usage: 32.0 MB\n"
     ]
    }
   ],
   "source": [
    "full_data.info()"
   ]
  },
  {
   "cell_type": "markdown",
   "metadata": {},
   "source": [
    "# Split"
   ]
  },
  {
   "cell_type": "code",
   "execution_count": 11,
   "metadata": {},
   "outputs": [],
   "source": [
    "x_val=reg_data.drop('rating', axis=1)\n",
    "rating=reg_data['rating']\n",
    "\n",
    "train,test, rating_train, rating_test = train_test_split(x_val, rating, test_size=0.4, random_state=0,shuffle=True)\n",
    "val,test,rating_val, rating_test=train_test_split(test, rating_test, test_size=0.5, random_state=0)"
   ]
  },
  {
   "cell_type": "code",
   "execution_count": null,
   "metadata": {},
   "outputs": [],
   "source": [
    "x_val=full_data.drop('rating', axis=1)\n",
    "rating=full_data['rating']\n",
    "\n",
    "train,test, rating_train, rating_test = train_test_split(x_val, rating, test_size=0.3, random_state=0,shuffle=True)\n",
    "val,test,rating_val, rating_test=train_test_split(test, rating_test, test_size=0.5, random_state=0)"
   ]
  },
  {
   "cell_type": "markdown",
   "metadata": {},
   "source": [
    "# Memory clean"
   ]
  },
  {
   "cell_type": "code",
   "execution_count": null,
   "metadata": {},
   "outputs": [],
   "source": [
    "import gc\n",
    "del full_data\n",
    "del x_val\n",
    "del rating\n",
    "del reg_data\n",
    "del scaled\n",
    "gc.collect()"
   ]
  },
  {
   "cell_type": "code",
   "execution_count": null,
   "metadata": {},
   "outputs": [],
   "source": [
    "del models\n",
    "gc.collect()"
   ]
  },
  {
   "cell_type": "code",
   "execution_count": null,
   "metadata": {},
   "outputs": [],
   "source": [
    "import sys\n",
    "\n",
    "# These are the usual ipython objects, including this one you are creating\n",
    "ipython_vars = ['In', 'Out', 'exit', 'quit', 'get_ipython', 'ipython_vars']\n",
    "\n",
    "# Get a sorted list of the objects and their sizes\n",
    "sorted([(x, sys.getsizeof(globals().get(x))) for x in dir() if not x.startswith('_') and x not in sys.modules and x not in ipython_vars], key=lambda x: x[1], reverse=True)"
   ]
  },
  {
   "cell_type": "markdown",
   "metadata": {},
   "source": [
    "# Test models"
   ]
  },
  {
   "cell_type": "code",
   "execution_count": 19,
   "metadata": {},
   "outputs": [
    {
     "name": "stdout",
     "output_type": "stream",
     "text": [
      "Classifier: LinearRegression\n",
      "Explained variance: 0.2729405422953798\n",
      "Mean absolute error: 0.09174542943762314\n",
      "Mean squared error: 0.014258911388553182\n",
      "RMSE:0.11941068372868979\n",
      "Median absolute error: 0.07366675081685037\n",
      "R2 score: 0.27293008634808325\n",
      "LinearRegression & 0.1194 & 0.2729\n",
      "-------------------------------------\n",
      "Classifier: Ridge\n",
      "Explained variance: 0.2714128183773793\n",
      "Mean absolute error: 0.09186750532336321\n",
      "Mean squared error: 0.014288912029276712\n",
      "RMSE:0.11953623730600153\n",
      "Median absolute error: 0.07376981978762887\n",
      "R2 score: 0.27140033679946973\n",
      "Ridge & 0.1195 & 0.2714\n",
      "-------------------------------------\n",
      "Classifier: Lasso\n",
      "Explained variance: 0.0\n",
      "Mean absolute error: 0.1089641042458889\n",
      "Mean squared error: 0.019611749477194847\n",
      "RMSE:0.14004195613170664\n",
      "Median absolute error: 0.09474766241356991\n",
      "R2 score: -1.4139255684053609e-05\n",
      "Lasso & 0.14 & -0.0\n",
      "-------------------------------------\n",
      "Classifier: ElasticNet\n",
      "Explained variance: 0.0\n",
      "Mean absolute error: 0.1089641042458889\n",
      "Mean squared error: 0.019611749477194847\n",
      "RMSE:0.14004195613170664\n",
      "Median absolute error: 0.09474766241356991\n",
      "R2 score: -1.4139255684053609e-05\n",
      "ElasticNet & 0.14 & -0.0\n",
      "-------------------------------------\n",
      "Classifier: Lars\n",
      "Explained variance: 0.2729405422953808\n",
      "Mean absolute error: 0.0917454294376231\n",
      "Mean squared error: 0.014258911388553166\n",
      "RMSE:0.11941068372868972\n",
      "Median absolute error: 0.07366675081684981\n",
      "R2 score: 0.272930086348084\n",
      "Lars & 0.1194 & 0.2729\n",
      "-------------------------------------\n",
      "Classifier: LassoLars\n",
      "Explained variance: 0.0\n",
      "Mean absolute error: 0.1089641042458889\n",
      "Mean squared error: 0.019611749477194847\n",
      "RMSE:0.14004195613170664\n",
      "Median absolute error: 0.09474766241356991\n",
      "R2 score: -1.4139255684053609e-05\n",
      "LassoLars & 0.14 & -0.0\n",
      "-------------------------------------\n",
      "Classifier: BayesianRidge\n",
      "Explained variance: 0.2727265325756961\n",
      "Mean absolute error: 0.09176493307463172\n",
      "Mean squared error: 0.01426311795970171\n",
      "RMSE:0.11942829631080613\n",
      "Median absolute error: 0.07369966528010119\n",
      "R2 score: 0.2727155909186365\n",
      "BayesianRidge & 0.1194 & 0.2727\n",
      "-------------------------------------\n",
      "Classifier: SGDRegressor\n",
      "Explained variance: 0.2532540084375855\n",
      "Mean absolute error: 0.09310322986482765\n",
      "Mean squared error: 0.014646154179515144\n",
      "RMSE:0.12102129638834293\n",
      "Median absolute error: 0.07438062934169809\n",
      "R2 score: 0.2531843585772334\n",
      "SGDRegressor & 0.121 & 0.2532\n",
      "-------------------------------------\n"
     ]
    },
    {
     "name": "stderr",
     "output_type": "stream",
     "text": [
      "C:\\Users\\fiare\\AppData\\Local\\Programs\\Python\\Python36-32\\lib\\site-packages\\sklearn\\linear_model\\stochastic_gradient.py:128: FutureWarning: max_iter and tol parameters have been added in <class 'sklearn.linear_model.stochastic_gradient.SGDRegressor'> in 0.19. If both are left unset, they default to max_iter=5 and tol=None. If tol is not None, max_iter defaults to max_iter=1000. From 0.21, default max_iter will be 1000, and default tol will be 1e-3.\n",
      "  \"and default tol will be 1e-3.\" % type(self), FutureWarning)\n",
      "C:\\Users\\fiare\\AppData\\Local\\Programs\\Python\\Python36-32\\lib\\site-packages\\sklearn\\linear_model\\stochastic_gradient.py:128: FutureWarning: max_iter and tol parameters have been added in <class 'sklearn.linear_model.passive_aggressive.PassiveAggressiveRegressor'> in 0.19. If both are left unset, they default to max_iter=5 and tol=None. If tol is not None, max_iter defaults to max_iter=1000. From 0.21, default max_iter will be 1000, and default tol will be 1e-3.\n",
      "  \"and default tol will be 1e-3.\" % type(self), FutureWarning)\n"
     ]
    },
    {
     "name": "stdout",
     "output_type": "stream",
     "text": [
      "Classifier: PassiveAggressiveRegressor\n",
      "Explained variance: 0.16533366826946339\n",
      "Mean absolute error: 0.10067689251870289\n",
      "Mean squared error: 0.01803574414760493\n",
      "RMSE:0.13429722315671658\n",
      "Median absolute error: 0.07662416806444022\n",
      "R2 score: 0.0803472591481087\n",
      "PassiveAggressiveRegressor & 0.1343 & 0.0803\n",
      "-------------------------------------\n",
      "Classifier: RANSACRegressor\n",
      "Explained variance: -1.3090050986728423\n",
      "Mean absolute error: 0.14003453951941458\n",
      "Mean squared error: 0.04549124339242057\n",
      "RMSE:0.213286763284599\n",
      "Median absolute error: 0.09755301027868446\n",
      "R2 score: -1.3196240935894914\n",
      "RANSACRegressor & 0.2133 & -1.3196\n",
      "-------------------------------------\n",
      "Classifier: HuberRegressor\n",
      "Explained variance: 0.2719381748081572\n",
      "Mean absolute error: 0.09135012251767516\n",
      "Mean squared error: 0.014338878468495004\n",
      "RMSE:0.11974505613383378\n",
      "Median absolute error: 0.07244304873731072\n",
      "R2 score: 0.2688525199530096\n",
      "HuberRegressor & 0.1197 & 0.2689\n",
      "-------------------------------------\n"
     ]
    }
   ],
   "source": [
    "models = [\n",
    "    #linear models\n",
    "    linear_model.LinearRegression(),\n",
    "    linear_model.Ridge(random_state=0),\n",
    "    linear_model.Lasso(random_state=0),\n",
    "    linear_model.ElasticNet(random_state=0),\n",
    "    linear_model.Lars(),\n",
    "    linear_model.LassoLars(),\n",
    "    linear_model.BayesianRidge(),\n",
    "   # linear_model.ARDRegression(), array too big\n",
    "   # linear_model.LogisticRegression(), needs categorical\n",
    "    linear_model.SGDRegressor(random_state=0),\n",
    "   # linear_model.Perceptron(), classification\n",
    "    linear_model.PassiveAggressiveRegressor(random_state=0),\n",
    "    linear_model.RANSACRegressor(),\n",
    "    #linear_model.TheilSenRegressor(random_state=0), memory error\n",
    "    linear_model.HuberRegressor()   \n",
    "]\n",
    "\n",
    "\n",
    "for model in models:\n",
    "    name = model.__class__.__name__\n",
    "    model.fit(train.values,rating_train.values)\n",
    "    pred = model.predict(test)\n",
    "    \n",
    "    \n",
    "    print('Classifier: '+name)\n",
    "    print(\"Explained variance: \"+str(metrics.explained_variance_score(rating_test,pred)))\n",
    "    print(\"Mean absolute error: \"+str(metrics.mean_absolute_error(rating_test,pred)))\n",
    "    print(\"Mean squared error: \"+str(metrics.mean_squared_error(rating_test,pred)))\n",
    "    rms = sqrt(mean_squared_error(rating_test, pred))\n",
    "    print(\"RMSE:\"+str(rms))\n",
    "    #print(\"Mean squared logarithmic error: \"+str(metrics.mean_squared_log_error(rating_test,pred)))\n",
    "    print(\"Median absolute error: \"+str(metrics.median_absolute_error(rating_test,pred)))\n",
    "    print(\"R2 score: \"+str(metrics.r2_score(rating_test,pred)))\n",
    "    print(name+\" & \"+str(round(rms,4))+\" & \"+str(round(metrics.r2_score(rating_test,pred),4)))\n",
    "    print(\"-------------------------------------\")\n",
    "    \n",
    "  \n"
   ]
  },
  {
   "cell_type": "code",
   "execution_count": 20,
   "metadata": {},
   "outputs": [
    {
     "name": "stdout",
     "output_type": "stream",
     "text": [
      "Classifier: DecisionTreeRegressor\n",
      "Explained variance: -0.09303995146706501\n",
      "Mean absolute error: 0.11005722651117233\n",
      "Mean squared error: 0.021443096657099748\n",
      "RMSE:0.14643461563817398\n",
      "Mean squared logarithmic error: 0.009564678180777914\n",
      "Median absolute error: 0.08988764044943814\n",
      "R2 score: -0.0933955622603222\n",
      "DecisionTreeRegressor & 0.1464 & -0.0934\n",
      "-------------------------------------\n",
      "Classifier: RandomForestRegressor\n",
      "Explained variance: 0.4197538215955898\n",
      "Mean absolute error: 0.08052536738450149\n",
      "Mean squared error: 0.011383565697653794\n",
      "RMSE:0.10669379409156746\n",
      "Mean squared logarithmic error: 0.005039782607680025\n",
      "Median absolute error: 0.06292134831460677\n",
      "R2 score: 0.419545580773549\n",
      "RandomForestRegressor & 0.1067 & 0.4195\n",
      "-------------------------------------\n",
      "Classifier: ExtraTreesRegressor\n",
      "Explained variance: 0.4170820213723271\n",
      "Mean absolute error: 0.08017244664492688\n",
      "Mean squared error: 0.011438081767047442\n",
      "RMSE:0.10694896805040917\n",
      "Mean squared logarithmic error: 0.005066750762859039\n",
      "Median absolute error: 0.061797752808988804\n",
      "R2 score: 0.41676577572486184\n",
      "ExtraTreesRegressor & 0.1069 & 0.4168\n",
      "-------------------------------------\n",
      "Classifier: GradientBoostingRegressor\n",
      "Explained variance: 0.4666862262963577\n",
      "Mean absolute error: 0.07717262444174122\n",
      "Mean squared error: 0.010459330876887616\n",
      "RMSE:0.10227087012873028\n",
      "Mean squared logarithmic error: 0.004664941669171003\n",
      "Median absolute error: 0.06081327781315393\n",
      "R2 score: 0.46667283425154005\n",
      "GradientBoostingRegressor & 0.1023 & 0.4667\n",
      "-------------------------------------\n",
      "Classifier: BaggingRegressor\n",
      "Explained variance: 0.4208075832747521\n",
      "Mean absolute error: 0.08011508650789605\n",
      "Mean squared error: 0.011361752152081152\n",
      "RMSE:0.10659152007585385\n",
      "Mean squared logarithmic error: 0.005036167758625141\n",
      "Median absolute error: 0.0629213483146066\n",
      "R2 score: 0.4206578657344243\n",
      "BaggingRegressor & 0.1066 & 0.4207\n",
      "-------------------------------------\n",
      "Classifier: AdaBoostRegressor\n",
      "Explained variance: 0.34011603776004407\n",
      "Mean absolute error: 0.10193412506432999\n",
      "Mean squared error: 0.015744031892715952\n",
      "RMSE:0.12547522421863191\n",
      "Mean squared logarithmic error: 0.006729240538597921\n",
      "Median absolute error: 0.08940653518945207\n",
      "R2 score: 0.19720295632389706\n",
      "AdaBoostRegressor & 0.1255 & 0.1972\n",
      "-------------------------------------\n"
     ]
    }
   ],
   "source": [
    "models = [\n",
    "    # KernelRidge(), array too big\n",
    "    # svm.SVR(), freezes, wont complete\n",
    "    # KNeighborsRegressor(), freezes, wont complete\n",
    "    # GaussianProcessRegressor(), array too big\n",
    "    tree.DecisionTreeRegressor(),\n",
    "    # IsotonicRegression(), need 1D array\n",
    "    ensemble.RandomForestRegressor(random_state=0), \n",
    "    ensemble.ExtraTreesRegressor(random_state=0),\n",
    "    ensemble.GradientBoostingRegressor(random_state=0),\n",
    "    \n",
    "    ensemble.BaggingRegressor(), #default decision trees\n",
    "    ensemble.AdaBoostRegressor(random_state=0) #default decision trees\n",
    "]\n",
    "\n",
    "for model in models:\n",
    "    name = model.__class__.__name__\n",
    "    model.fit(train.values,rating_train.values)\n",
    "    pred = model.predict(test)\n",
    "    \n",
    "    print('Classifier: '+name)\n",
    "    print(\"Explained variance: \"+str(metrics.explained_variance_score(rating_test,pred)))\n",
    "    print(\"Mean absolute error: \"+str(metrics.mean_absolute_error(rating_test,pred)))\n",
    "    print(\"Mean squared error: \"+str(metrics.mean_squared_error(rating_test,pred)))\n",
    "    rms = sqrt(mean_squared_error(rating_test, pred))\n",
    "    print(\"RMSE:\"+str(rms))\n",
    "    print(\"Mean squared logarithmic error: \"+str(metrics.mean_squared_log_error(rating_test,pred)))\n",
    "    print(\"Median absolute error: \"+str(metrics.median_absolute_error(rating_test,pred)))\n",
    "    print(\"R2 score: \"+str(metrics.r2_score(rating_test,pred)))\n",
    "    print(name+\" & \"+str(round(rms,4))+\" & \"+str(round(metrics.r2_score(rating_test,pred),4)))\n",
    "    print(\"-------------------------------------\")"
   ]
  },
  {
   "cell_type": "markdown",
   "metadata": {},
   "source": [
    "# Grid search using cross validation"
   ]
  },
  {
   "cell_type": "code",
   "execution_count": 22,
   "metadata": {},
   "outputs": [],
   "source": [
    "wood= ensemble.GradientBoostingRegressor(random_state=0)"
   ]
  },
  {
   "cell_type": "code",
   "execution_count": 24,
   "metadata": {},
   "outputs": [
    {
     "name": "stdout",
     "output_type": "stream",
     "text": [
      "Fitting 3 folds for each of 2 candidates, totalling 6 fits\n",
      "[CV] learning_rate=0.25, loss=ls, max_depth=3, max_features=auto, min_impurity_decrease=0.0, min_samples_leaf=9, min_samples_split=4, n_estimators=250, subsample=1.0 \n",
      "[CV]  learning_rate=0.25, loss=ls, max_depth=3, max_features=auto, min_impurity_decrease=0.0, min_samples_leaf=9, min_samples_split=4, n_estimators=250, subsample=1.0, score=0.4774241509916269, total=   5.1s\n",
      "[CV] learning_rate=0.25, loss=ls, max_depth=3, max_features=auto, min_impurity_decrease=0.0, min_samples_leaf=9, min_samples_split=4, n_estimators=250, subsample=1.0 \n"
     ]
    },
    {
     "name": "stderr",
     "output_type": "stream",
     "text": [
      "[Parallel(n_jobs=1)]: Done   1 out of   1 | elapsed:    5.1s remaining:    0.0s\n"
     ]
    },
    {
     "name": "stdout",
     "output_type": "stream",
     "text": [
      "[CV]  learning_rate=0.25, loss=ls, max_depth=3, max_features=auto, min_impurity_decrease=0.0, min_samples_leaf=9, min_samples_split=4, n_estimators=250, subsample=1.0, score=0.45066961046860143, total=   5.1s\n",
      "[CV] learning_rate=0.25, loss=ls, max_depth=3, max_features=auto, min_impurity_decrease=0.0, min_samples_leaf=9, min_samples_split=4, n_estimators=250, subsample=1.0 \n"
     ]
    },
    {
     "name": "stderr",
     "output_type": "stream",
     "text": [
      "[Parallel(n_jobs=1)]: Done   2 out of   2 | elapsed:   10.4s remaining:    0.0s\n"
     ]
    },
    {
     "name": "stdout",
     "output_type": "stream",
     "text": [
      "[CV]  learning_rate=0.25, loss=ls, max_depth=3, max_features=auto, min_impurity_decrease=0.0, min_samples_leaf=9, min_samples_split=4, n_estimators=250, subsample=1.0, score=0.46718110749706054, total=   5.0s\n",
      "[CV] learning_rate=0.25, loss=ls, max_depth=3, max_features=None, min_impurity_decrease=0.0, min_samples_leaf=9, min_samples_split=4, n_estimators=250, subsample=1.0 \n"
     ]
    },
    {
     "name": "stderr",
     "output_type": "stream",
     "text": [
      "[Parallel(n_jobs=1)]: Done   3 out of   3 | elapsed:   15.5s remaining:    0.0s\n"
     ]
    },
    {
     "name": "stdout",
     "output_type": "stream",
     "text": [
      "[CV]  learning_rate=0.25, loss=ls, max_depth=3, max_features=None, min_impurity_decrease=0.0, min_samples_leaf=9, min_samples_split=4, n_estimators=250, subsample=1.0, score=0.4774241509916269, total=   5.1s\n",
      "[CV] learning_rate=0.25, loss=ls, max_depth=3, max_features=None, min_impurity_decrease=0.0, min_samples_leaf=9, min_samples_split=4, n_estimators=250, subsample=1.0 \n"
     ]
    },
    {
     "name": "stderr",
     "output_type": "stream",
     "text": [
      "[Parallel(n_jobs=1)]: Done   4 out of   4 | elapsed:   20.8s remaining:    0.0s\n"
     ]
    },
    {
     "name": "stdout",
     "output_type": "stream",
     "text": [
      "[CV]  learning_rate=0.25, loss=ls, max_depth=3, max_features=None, min_impurity_decrease=0.0, min_samples_leaf=9, min_samples_split=4, n_estimators=250, subsample=1.0, score=0.45066961046860143, total=   5.1s\n",
      "[CV] learning_rate=0.25, loss=ls, max_depth=3, max_features=None, min_impurity_decrease=0.0, min_samples_leaf=9, min_samples_split=4, n_estimators=250, subsample=1.0 \n"
     ]
    },
    {
     "name": "stderr",
     "output_type": "stream",
     "text": [
      "[Parallel(n_jobs=1)]: Done   5 out of   5 | elapsed:   26.0s remaining:    0.0s\n"
     ]
    },
    {
     "name": "stdout",
     "output_type": "stream",
     "text": [
      "[CV]  learning_rate=0.25, loss=ls, max_depth=3, max_features=None, min_impurity_decrease=0.0, min_samples_leaf=9, min_samples_split=4, n_estimators=250, subsample=1.0, score=0.46718110749706054, total=   5.0s\n"
     ]
    },
    {
     "name": "stderr",
     "output_type": "stream",
     "text": [
      "[Parallel(n_jobs=1)]: Done   6 out of   6 | elapsed:   31.2s remaining:    0.0s\n",
      "[Parallel(n_jobs=1)]: Done   6 out of   6 | elapsed:   31.2s finished\n"
     ]
    },
    {
     "name": "stdout",
     "output_type": "stream",
     "text": [
      "{'learning_rate': 0.25, 'loss': 'ls', 'max_depth': 3, 'max_features': 'auto', 'min_impurity_decrease': 0.0, 'min_samples_leaf': 9, 'min_samples_split': 4, 'n_estimators': 250, 'subsample': 1.0}\n"
     ]
    }
   ],
   "source": [
    "param_grid = { \n",
    "    'loss':['ls'],\n",
    "    'learning_rate':[0.25],\n",
    "    'n_estimators': [250],\n",
    "    'max_depth':[3],\n",
    "    'min_samples_split': [4],\n",
    "    'min_samples_leaf': [9],\n",
    "    'subsample': [1.0],\n",
    "    'max_features':['auto',None],\n",
    "    'min_impurity_decrease': [0.0],\n",
    "    \n",
    "    \n",
    "#    'loss': ['ls', 'lad', 'huber', 'quantile'],\n",
    "#     'learning_rate':[0.1,0.2,0.25,0.3,0.35,0.4,0.5,0.6,0.7],\n",
    "#     'n_estimators': [20,100,150,200,250,300,400,500],\n",
    "#     'max_depth':[1,2,3,4,5,6,7,8,9,10],\n",
    "#     'min_samples_split': [2,3,4,5,6,7,8,9,10,11],\n",
    "#     'subsample': [1.0, 0.9,0.8,0.7],\n",
    "#     'max_features':['auto','sqrt','log2']\n",
    "#     'min_impurity_decrease': [0.0, 0.05,0.1]\n",
    "}\n",
    "\n",
    "CV_rfc = GridSearchCV(estimator=wood, param_grid=param_grid,verbose = 10)\n",
    "CV_rfc.fit(val, rating_val)\n",
    "print (CV_rfc.best_params_)"
   ]
  },
  {
   "cell_type": "markdown",
   "metadata": {},
   "source": [
    "# Feature selection and variance"
   ]
  },
  {
   "cell_type": "code",
   "execution_count": null,
   "metadata": {},
   "outputs": [],
   "source": [
    "importances=list(zip(wood3.feature_importances_,train.columns))\n",
    "importances.sort(key=lambda tup: tup[0],reverse=True)\n",
    "print(importances)"
   ]
  },
  {
   "cell_type": "code",
   "execution_count": null,
   "metadata": {},
   "outputs": [],
   "source": [
    "variances=np.var(reg_data)\n",
    "print(variances.sort_values())"
   ]
  },
  {
   "cell_type": "code",
   "execution_count": null,
   "metadata": {},
   "outputs": [],
   "source": [
    "selector = RFE(wood3, 20, step=1,verbose=5)"
   ]
  },
  {
   "cell_type": "code",
   "execution_count": null,
   "metadata": {},
   "outputs": [],
   "source": [
    "selector = selector.fit(train, rating_train)\n",
    "selector.score(test,rating_test)"
   ]
  },
  {
   "cell_type": "markdown",
   "metadata": {},
   "source": [
    "# Custom experiements"
   ]
  },
  {
   "cell_type": "code",
   "execution_count": 25,
   "metadata": {},
   "outputs": [],
   "source": [
    "wood3= ensemble.GradientBoostingRegressor(random_state=0,learning_rate=0.25,loss='ls',max_depth=3,max_features='auto',\n",
    "                                          min_impurity_decrease=0.0,min_samples_leaf=9,min_samples_split=4,n_estimators=250,\n",
    "                                          subsample=1.0)"
   ]
  },
  {
   "cell_type": "code",
   "execution_count": 26,
   "metadata": {},
   "outputs": [
    {
     "data": {
      "text/plain": [
       "GradientBoostingRegressor(alpha=0.9, criterion='friedman_mse', init=None,\n",
       "             learning_rate=0.25, loss='ls', max_depth=3,\n",
       "             max_features='auto', max_leaf_nodes=None,\n",
       "             min_impurity_decrease=0.0, min_impurity_split=None,\n",
       "             min_samples_leaf=9, min_samples_split=4,\n",
       "             min_weight_fraction_leaf=0.0, n_estimators=250,\n",
       "             presort='auto', random_state=0, subsample=1.0, verbose=0,\n",
       "             warm_start=False)"
      ]
     },
     "execution_count": 26,
     "metadata": {},
     "output_type": "execute_result"
    }
   ],
   "source": [
    "wood3.fit(train,rating_train)"
   ]
  },
  {
   "cell_type": "code",
   "execution_count": 27,
   "metadata": {},
   "outputs": [],
   "source": [
    "pred3 = wood3.predict(test)"
   ]
  },
  {
   "cell_type": "code",
   "execution_count": 29,
   "metadata": {},
   "outputs": [
    {
     "name": "stdout",
     "output_type": "stream",
     "text": [
      "Explained variance: 0.4903287895091002\n",
      "Mean absolute error: 0.07511656812021672\n",
      "Mean squared error: 0.009995612604717487\n",
      "RMSE:0.09997806061690478\n",
      "Mean squared logarithmic error: 0.004457627077653084\n",
      "Median absolute error: 0.05884208257636592\n",
      "R2 score: 0.49031808983368885\n"
     ]
    }
   ],
   "source": [
    "print(\"Explained variance: \"+str(metrics.explained_variance_score(rating_test,pred3)))\n",
    "print(\"Mean absolute error: \"+str(metrics.mean_absolute_error(rating_test,pred3)))\n",
    "print(\"Mean squared error: \"+str(metrics.mean_squared_error(rating_test,pred3)))\n",
    "rms = sqrt(mean_squared_error(rating_test, pred3))\n",
    "print(\"RMSE:\"+str(rms))\n",
    "print(\"Mean squared logarithmic error: \"+str(metrics.mean_squared_log_error(rating_test,pred3)))\n",
    "print(\"Median absolute error: \"+str(metrics.median_absolute_error(rating_test,pred3)))\n",
    "print(\"R2 score: \"+str(metrics.r2_score(rating_test,pred3)))"
   ]
  },
  {
   "cell_type": "code",
   "execution_count": 30,
   "metadata": {},
   "outputs": [
    {
     "name": "stdout",
     "output_type": "stream",
     "text": [
      "0.49031808983368885\n",
      "Mean squared error: 0.009995612604717487\n",
      "RMSE:0.09997806061690478\n"
     ]
    }
   ],
   "source": [
    "print(wood3.score(test,rating_test))\n",
    "print(\"Mean squared error: \"+str(metrics.mean_squared_error(rating_test,pred3)))\n",
    "rms = sqrt(mean_squared_error(rating_test, pred3))\n",
    "print(\"RMSE:\"+str(rms))"
   ]
  },
  {
   "cell_type": "code",
   "execution_count": null,
   "metadata": {},
   "outputs": [],
   "source": [
    "pred4 = selector.predict(test)"
   ]
  },
  {
   "cell_type": "code",
   "execution_count": null,
   "metadata": {},
   "outputs": [],
   "source": [
    "print(selector.score(test,rating_test))\n",
    "print(\"Mean squared error: \"+str(metrics.mean_squared_error(rating_test,pred4)))\n",
    "rms = sqrt(mean_squared_error(rating_test, pred4))\n",
    "print(\"RMSE:\"+str(rms))"
   ]
  },
  {
   "cell_type": "markdown",
   "metadata": {},
   "source": [
    "# Graphs"
   ]
  },
  {
   "cell_type": "code",
   "execution_count": 32,
   "metadata": {},
   "outputs": [
    {
     "data": {
      "text/plain": [
       "<matplotlib.collections.PathCollection at 0x1ab65550>"
      ]
     },
     "execution_count": 32,
     "metadata": {},
     "output_type": "execute_result"
    },
    {
     "data": {
      "image/png": "[encoded data removed]",
      "text/plain": [
       "<matplotlib.figure.Figure at 0x2abf4350>"
      ]
     },
     "metadata": {},
     "output_type": "display_data"
    }
   ],
   "source": [
    "plt.scatter(rating_test,pred3)"
   ]
  },
  {
   "cell_type": "code",
   "execution_count": 38,
   "metadata": {},
   "outputs": [],
   "source": [
    "joinedframe=test.copy()"
   ]
  },
  {
   "cell_type": "code",
   "execution_count": 39,
   "metadata": {},
   "outputs": [],
   "source": [
    "joinedframe['rating_pred']=pred3\n",
    "joinedframe['rating_true']=rating_test"
   ]
  },
  {
   "cell_type": "code",
   "execution_count": 41,
   "metadata": {},
   "outputs": [
    {
     "data": {
      "text/plain": [
       "Index(['adult', 'runtime', 'release_date', 'director', 'producer', 'editor',\n",
       "       'writer', 'Action', 'Adventure', 'Animation', 'Comedy', 'Crime',\n",
       "       'Documentary', 'Drama', 'Family', 'Fantasy', 'Foreign', 'History',\n",
       "       'Horror', 'Music', 'Mystery', 'Romance', 'Science Fiction', 'TV Movie',\n",
       "       'Thriller', 'War', 'Western', 'revenue', 'budget',\n",
       "       'director_awards_won', 'director_awards_nominated',\n",
       "       'keywords_first_film', 'keywords_vote_average', 'cast_first_film',\n",
       "       'cast_vote_average', 'crew_first_film', 'crew_vote_average',\n",
       "       'rating_pred', 'rating_true'],\n",
       "      dtype='object')"
      ]
     },
     "execution_count": 41,
     "metadata": {},
     "output_type": "execute_result"
    }
   ],
   "source": [
    "joinedframe.columns"
   ]
  },
  {
   "cell_type": "code",
   "execution_count": 42,
   "metadata": {},
   "outputs": [],
   "source": [
    "#indexes=joinedframe[joinedframe['rating_count']<100]"
   ]
  },
  {
   "cell_type": "code",
   "execution_count": 53,
   "metadata": {},
   "outputs": [
    {
     "data": {
      "text/plain": [
       "Text(0.5,1,'Results of the prediction versus the actual rating')"
      ]
     },
     "execution_count": 53,
     "metadata": {},
     "output_type": "execute_result"
    },
    {
     "data": {
      "image/png": "[encoded data removed]",
      "text/plain": [
       "<matplotlib.figure.Figure at 0x1c49d8d0>"
      ]
     },
     "metadata": {},
     "output_type": "display_data"
    }
   ],
   "source": [
    "plt.figure(figsize=(20,10))\n",
    "plt.scatter(rating_test,pred3)\n",
    "#plt.scatter(indexes['rating_true'],indexes['rating_pred'],c='orange')\n",
    "plt.plot(np.unique(rating_test), np.poly1d(np.polyfit(rating_test,pred3, 1))(np.unique(rating_test)),color='red')\n",
    "\n",
    "plt.xticks(fontsize=30)\n",
    "plt.yticks(fontsize=30)\n",
    "plt.ylabel('Predicted rating',fontsize=30)\n",
    "plt.xlabel('Actual rating',fontsize=30)\n",
    "plt.title(\"Results of the prediction versus the actual rating\",fontsize=30)\n",
    "savefig('foo.png')\n",
    "plt.show()"
   ]
  }
 ],
 "metadata": {
  "kernelspec": {
   "display_name": "Python 3",
   "language": "python",
   "name": "python3"
  },
  "language_info": {
   "codemirror_mode": {
    "name": "ipython",
    "version": 3
   },
   "file_extension": ".py",
   "mimetype": "text/x-python",
   "name": "python",
   "nbconvert_exporter": "python",
   "pygments_lexer": "ipython3",
   "version": "3.6.2"
  }
 },
 "nbformat": 4,
 "nbformat_minor": 2
}
