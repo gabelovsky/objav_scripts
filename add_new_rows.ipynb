{
 "cells": [
  {
   "cell_type": "markdown",
   "metadata": {},
   "source": [
    "# Process for adding the genres and cast as columns to the data"
   ]
  },
  {
   "cell_type": "code",
   "execution_count": 1,
   "metadata": {},
   "outputs": [],
   "source": [
    "import pandas as pd\n",
    "import numpy as np\n",
    "import ast"
   ]
  },
  {
   "cell_type": "markdown",
   "metadata": {},
   "source": [
    "# Read data"
   ]
  },
  {
   "cell_type": "code",
   "execution_count": 2,
   "metadata": {},
   "outputs": [],
   "source": [
    "test_data = pd.read_csv('full_data.csv',delimiter=',')\n",
    "test_data = test_data.drop(\"Unnamed: 0\", 1)\n",
    "test_data = test_data.drop(['vote_count', 'vote_average'], axis=1)\n",
    "test_data = test_data.drop(['metacritic'], axis=1)\n",
    "\n",
    "test_data['rating_count'] = test_data['rating_count'].replace(0,np.nan)\n",
    "test_data = test_data[np.isfinite(test_data['rating_count'])]\n",
    "test_data['cast'] = test_data['cast'].replace('[]',np.nan)\n",
    "test_data['crew'] = test_data['crew'].replace('[]',np.nan)\n",
    "test_data = test_data[pd.notnull(test_data['cast'])]\n",
    "test_data = test_data[pd.notnull(test_data['crew'])]\n",
    "\n",
    "test_data = test_data.reset_index(drop=True)"
   ]
  },
  {
   "cell_type": "markdown",
   "metadata": {},
   "source": [
    "# Get director, editor, producer, writer"
   ]
  },
  {
   "cell_type": "code",
   "execution_count": 3,
   "metadata": {},
   "outputs": [],
   "source": [
    "directors=[]\n",
    "producers=[]\n",
    "editors=[]\n",
    "writers=[]\n",
    "\n",
    "for index, row in test_data.iterrows():\n",
    "    is_director=False\n",
    "    is_producer=False\n",
    "    is_editor=False\n",
    "    is_writer=False\n",
    "    \n",
    "    row_crew=ast.literal_eval(row['crew'])\n",
    "    for crew in row_crew:\n",
    "        if(crew['job']=='Director' and not is_director):\n",
    "            directors.append(crew['id'])\n",
    "            is_director=True\n",
    "        if(crew['job']=='Producer' and not is_producer):\n",
    "            producers.append(crew['id'])\n",
    "            is_producer=True\n",
    "        if(crew['job']=='Editor' and not is_editor):\n",
    "            editors.append(crew['id'])\n",
    "            is_editor=True\n",
    "        if(crew['job']=='Writer' and not is_writer):\n",
    "            writers.append(crew['id'])\n",
    "            is_writer=True\n",
    "    if(not is_director):\n",
    "        directors.append(0)\n",
    "    if(not is_producer):\n",
    "        producers.append(0)\n",
    "    if(not is_editor):\n",
    "        editors.append(0)\n",
    "    if(not is_writer):\n",
    "        writers.append(0)\n",
    "        \n",
    "test_data['director']=directors\n",
    "test_data['producer']=producers\n",
    "test_data['editor']=editors\n",
    "test_data['writer']=writers\n"
   ]
  },
  {
   "cell_type": "markdown",
   "metadata": {},
   "source": [
    "# One-hot genres"
   ]
  },
  {
   "cell_type": "code",
   "execution_count": 4,
   "metadata": {},
   "outputs": [],
   "source": [
    "all_genres=[]\n",
    "for index, row in test_data.iterrows():\n",
    "    genre_array=[]\n",
    "    row_genres=ast.literal_eval(row['genres'])\n",
    "    for genre in row_genres:\n",
    "        genre_array.append(genre['name'])\n",
    "    all_genres.append(genre_array)\n",
    "test_data['genre_array']=all_genres\n"
   ]
  },
  {
   "cell_type": "code",
   "execution_count": 5,
   "metadata": {},
   "outputs": [],
   "source": [
    "from sklearn.preprocessing import MultiLabelBinarizer\n",
    "\n",
    "mlb = MultiLabelBinarizer()\n",
    "test_data = test_data.join(pd.DataFrame(mlb.fit_transform(test_data.pop('genre_array')),\n",
    "                           columns=mlb.classes_,\n",
    "                          index=test_data.index))"
   ]
  },
  {
   "cell_type": "markdown",
   "metadata": {},
   "source": [
    "# Drop uselsess data"
   ]
  },
  {
   "cell_type": "code",
   "execution_count": 6,
   "metadata": {},
   "outputs": [],
   "source": [
    "test_data['revenue']=test_data['revenue_moviedb']\n",
    "test_data['revenue']=test_data['revenue'].replace(0, np.nan)\n",
    "test_data['revenue']=test_data['revenue'].fillna(test_data['revenue_imdb'])\n",
    "test_data['revenue']=test_data['revenue'].fillna(test_data['revenue_USA'])\n",
    "test_data['revenue']=test_data['revenue'].fillna(0)\n",
    "\n",
    "test_data['budget']=test_data['budget_moviedb']\n",
    "test_data['budget']=test_data['budget'].replace(0, np.nan)\n",
    "test_data['budget']=test_data['budget'].fillna(test_data['budget_imdb'])\n",
    "test_data['budget']=test_data['budget'].fillna(0)\n",
    "\n",
    "test_data=test_data.drop(['revenue_moviedb','revenue_imdb','revenue_USA','budget_moviedb','budget_imdb'],axis=1)"
   ]
  },
  {
   "cell_type": "code",
   "execution_count": 7,
   "metadata": {},
   "outputs": [],
   "source": [
    "test_data=test_data.drop(['genres','imdb_id'],axis=1)"
   ]
  },
  {
   "cell_type": "markdown",
   "metadata": {},
   "source": [
    "# Calculate genre bytwise(unused)"
   ]
  },
  {
   "cell_type": "code",
   "execution_count": 8,
   "metadata": {},
   "outputs": [],
   "source": [
    "#used one-hot instead\n",
    "# genres=[]\n",
    "# gen_dict = {'Action': 1,\n",
    "#              'Adventure': 2,\n",
    "#              'Animation': 4,\n",
    "#              'Comedy':8,\n",
    "#              'Crime':16,\n",
    "#              'Documentary':32,\n",
    "#              'Drama':64,\n",
    "#              'Family':128,\n",
    "#              'Fantasy':256,\n",
    "#              'Foreign':512,\n",
    "#              'History':1024,\n",
    "#              'Horror':2048,\n",
    "#              'Music':4096,\n",
    "#              'Mystery':8192,\n",
    "#              'Romance':16384,\n",
    "#              'Science Fiction':32768,\n",
    "#              'TV Movie':65536,\n",
    "#              'Thriller':131072,\n",
    "#              'War':262144,\n",
    "#              'Western':524288}\n",
    "\n",
    "# for index, row in test_data.iterrows():\n",
    "#     row_genres=ast.literal_eval(row['genres'])\n",
    "#     genre_value=0\n",
    "#     for genre in row_genres:\n",
    "#         genre_value=genre_value+gen_dict[genre['name']]\n",
    "#     genres.append(genre_value)\n",
    "# test_data['genre_byte']=genres"
   ]
  },
  {
   "cell_type": "markdown",
   "metadata": {},
   "source": [
    "# Get award win/nomination per director"
   ]
  },
  {
   "cell_type": "code",
   "execution_count": 9,
   "metadata": {},
   "outputs": [],
   "source": [
    "award_data = pd.read_csv('220k_awards_by_directors.csv',delimiter=',')"
   ]
  },
  {
   "cell_type": "code",
   "execution_count": 10,
   "metadata": {},
   "outputs": [],
   "source": [
    "director_award_dict={}\n",
    "for index, row in award_data.iterrows():\n",
    "    if(row['director_name'] not in director_award_dict):\n",
    "        director_award_dict[row['director_name']]=[0,0]\n",
    "    if(row['outcome']==\"Won\"):\n",
    "        director_award_dict[row['director_name']][0]=director_award_dict[row['director_name']][0]+1\n",
    "    else:\n",
    "        director_award_dict[row['director_name']][1]=director_award_dict[row['director_name']][1]+1"
   ]
  },
  {
   "cell_type": "code",
   "execution_count": 11,
   "metadata": {},
   "outputs": [],
   "source": [
    "victory_list=[]\n",
    "nomination_list=[]\n",
    "\n",
    "for index, row in test_data.iterrows(): \n",
    "    row_crew=ast.literal_eval(row['crew'])\n",
    "    victories=0\n",
    "    nominations=0\n",
    "    for crew in row_crew:\n",
    "        if(crew['job']=='Director' and (crew['name'] in director_award_dict)):\n",
    "            victories=victories+director_award_dict[crew['name']][0]\n",
    "            nominations=nominations+director_award_dict[crew['name']][1]\n",
    "    victory_list.append(victories)\n",
    "    nomination_list.append(nominations)\n",
    "    \n",
    "test_data['director_awards_won']=victory_list\n",
    "test_data['director_awards_nominated']=nomination_list"
   ]
  },
  {
   "cell_type": "markdown",
   "metadata": {},
   "source": [
    "# Save to file"
   ]
  },
  {
   "cell_type": "code",
   "execution_count": 12,
   "metadata": {},
   "outputs": [],
   "source": [
    "test_data.to_csv('added_rows.csv', sep=',', encoding='utf-8',index=False)"
   ]
  }
 ],
 "metadata": {
  "kernelspec": {
   "display_name": "Python 3",
   "language": "python",
   "name": "python3"
  },
  "language_info": {
   "codemirror_mode": {
    "name": "ipython",
    "version": 3
   },
   "file_extension": ".py",
   "mimetype": "text/x-python",
   "name": "python",
   "nbconvert_exporter": "python",
   "pygments_lexer": "ipython3",
   "version": "3.6.2"
  }
 },
 "nbformat": 4,
 "nbformat_minor": 2
}
