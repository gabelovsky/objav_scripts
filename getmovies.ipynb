{
 "cells": [
  {
   "cell_type": "code",
   "execution_count": 3,
   "metadata": {},
   "outputs": [],
   "source": [
    "import json, requests, csv, time, ast"
   ]
  },
  {
   "cell_type": "code",
   "execution_count": 4,
   "metadata": {},
   "outputs": [],
   "source": [
    "def get_details(movie_id):\n",
    "    movie_id=str(movie_id)\n",
    "    url='https://api.themoviedb.org/3/movie/'+movie_id+'?api_key='+api_key+'&append_to_response=keywords%2Ccredits%2Crelease_dates'\n",
    "    response = requests.get(url=url)\n",
    "    data=response.json()\n",
    "    return data"
   ]
  },
  {
   "cell_type": "markdown",
   "metadata": {},
   "source": [
    "# Run to create headers/get 10 movies (!!! overwrites file!!!)"
   ]
  },
  {
   "cell_type": "code",
   "execution_count": 22,
   "metadata": {},
   "outputs": [],
   "source": [
    "api_key='2e9e1066ccfeeda151842a4213ff5671'\n",
    "\n",
    "file_to_write = open('output_file.csv', 'w',encoding=\"utf8\", newline='')\n",
    "writer = csv.writer(file_to_write,delimiter = \";\")\n",
    "headers=['id','all']\n",
    "writer.writerow(headers)\n",
    "\n",
    "breaker=0\n",
    "\n",
    "with open('movie_ids_03_03_2018.json', 'r',encoding=\"utf8\" ) as file_list_file:\n",
    "    for film_line in file_list_file:\n",
    "        breaker=breaker+1\n",
    "        film_json_data = json.loads(film_line)\n",
    "        film_data=get_details(film_json_data['id'])\n",
    "        \n",
    "        row_to_write=[]\n",
    "        row_to_write.append(film_json_data['id'])\n",
    "        row_to_write.append(json.dumps(film_data))\n",
    "        writer.writerow(row_to_write)\n",
    "        if(breaker==10):\n",
    "            break\n",
    "file_to_write.close()"
   ]
  },
  {
   "cell_type": "markdown",
   "metadata": {},
   "source": [
    "# Append next X movies to the output"
   ]
  },
  {
   "cell_type": "code",
   "execution_count": 27,
   "metadata": {},
   "outputs": [
    {
     "name": "stdout",
     "output_type": "stream",
     "text": [
      "writing\n"
     ]
    }
   ],
   "source": [
    "api_key='2e9e1066ccfeeda151842a4213ff5671'\n",
    "\n",
    "file_to_read = open('output_file.csv', 'r',encoding=\"utf8\", newline='')\n",
    "last_line = file_to_read.readlines()[-1]\n",
    "last_id=str.split(last_line,\";\")[0]\n",
    "file_to_read.close()\n",
    "\n",
    "\n",
    "to_write=False\n",
    "number_to_write=1000\n",
    "\n",
    "file_to_write = open('output_file.csv', 'a',encoding=\"utf8\", newline='')\n",
    "writer = csv.writer(file_to_write,delimiter = \";\")\n",
    "with open('movie_ids_03_03_2018.json', 'r',encoding=\"utf8\" ) as file_list_file:\n",
    "    for film_line in file_list_file:\n",
    "        film_json_data = json.loads(film_line)\n",
    "        if(int(film_json_data['id'])==int(last_id)):\n",
    "            to_write=True\n",
    "            counter=0\n",
    "        if(to_write):\n",
    "            counter=counter+1\n",
    "            row_to_write=[]\n",
    "            film_data=get_details(film_json_data['id'])\n",
    "            row_to_write.append(film_json_data['id'])\n",
    "            row_to_write.append(json.dumps(film_data))\n",
    "            writer.writerow(row_to_write)\n",
    "            if(counter==number_to_write):\n",
    "                break\n",
    "file_to_write.close()"
   ]
  }
 ],
 "metadata": {
  "kernelspec": {
   "display_name": "Python 3",
   "language": "python",
   "name": "python3"
  },
  "language_info": {
   "codemirror_mode": {
    "name": "ipython",
    "version": 3
   },
   "file_extension": ".py",
   "mimetype": "text/x-python",
   "name": "python",
   "nbconvert_exporter": "python",
   "pygments_lexer": "ipython3",
   "version": "3.6.2"
  }
 },
 "nbformat": 4,
 "nbformat_minor": 2
}
